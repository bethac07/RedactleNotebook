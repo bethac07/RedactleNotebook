{
 "cells": [
  {
   "cell_type": "code",
   "execution_count": null,
   "id": "4ca1468c",
   "metadata": {
    "tags": [
     "hide-cell"
    ]
   },
   "outputs": [],
   "source": [
    "#only necessary when running in Colab\n",
    "#Remove the \"#\" symbols from the beginning of the 4 lines that start with !\n",
    "#You only want to run this once per session, so then put them back before you \"restart and run all at the end of a game\"\n",
    "#!apt-get remove pandoc\n",
    "#!wget https://github.com/jgm/pandoc/releases/download/2.18/pandoc-2.18-1-amd64.deb\n",
    "#!dpkg -i  pandoc-2.18-1-amd64.deb\n",
    "#!pip install wikipedia pypandoc"
   ]
  },
  {
   "cell_type": "code",
   "execution_count": null,
   "id": "bdba1a2e",
   "metadata": {
    "tags": [
     "hide-cell",
     "thebe-init"
    ]
   },
   "outputs": [],
   "source": [
    "import wikipedia\n",
    "import ipywidgets\n",
    "import re\n",
    "import textwrap\n",
    "import urllib\n",
    "import pypandoc\n",
    "from IPython.display import display,Markdown"
   ]
  },
  {
   "cell_type": "code",
   "execution_count": null,
   "id": "a32ea8e2",
   "metadata": {
    "tags": [
     "hide-input",
     "thebe-init"
    ]
   },
   "outputs": [],
   "source": [
    "level = ipywidgets.IntSlider(\n",
    "    value=4,\n",
    "    min=1,\n",
    "    max=5,\n",
    "    step=1,\n",
    "    description='Difficulty')\n",
    "\n",
    "level"
   ]
  },
  {
   "cell_type": "code",
   "execution_count": null,
   "id": "9b8abcb3",
   "metadata": {
    "tags": [
     "hide-cell",
     "thebe-init"
    ]
   },
   "outputs": [],
   "source": [
    "urlname = f'https://randomincategory.toolforge.org/?category=All%20Wikipedia%20level-{level.value}%20vital%20articles&server=en.wikipedia.org&cmnamespace=&cmtype=&returntype=subject'\n",
    "\n",
    "try:\n",
    "    name = urllib.request.urlopen(urlname).read(500).decode().split('title>')[1].split(' - Wikipedia')[0]\n",
    "    content = wikipedia.page(name,auto_suggest=False).content\n",
    "except:\n",
    "    name = urllib.request.urlopen(urlname).read(500).decode().split('title>')[1].split(' - Wikipedia')[0]\n",
    "    content = wikipedia.page(name,auto_suggest=False).content\n",
    "\n",
    "def print_redacted(new_string,count_to_word_dict,bold=False):\n",
    "    string_to_print = ''\n",
    "    delims=['\\n',r'===',r'==',r'.',r',',r'(',r')',r'[',r']',r'<',r'>',r'\"',r':',r';',r'-',r'/',r'–',r'=',r'%',' ']\n",
    "    for word in re.split(r'([ |\\n|=|.|,|(|)|[|]|<|>|\"|:|;|-|/|–|%])',new_string):\n",
    "        if type(word)==str:\n",
    "            if word in delims:\n",
    "                string_to_print += word\n",
    "            elif word in count_to_word_dict.keys():\n",
    "                if len(count_to_word_dict[word])>0:\n",
    "                    string_to_print += count_to_word_dict[word][0]\n",
    "            else:\n",
    "                pass\n",
    "    if bold:\n",
    "        print(string_to_print)\n",
    "        string_to_print = pypandoc.convert_text(string_to_print,'markdown_strict',format='mediawiki',extra_args=[\"--shift-heading-level-by=1\",\"--markdown-headings=atx\"])\n",
    "        string_to_print = re.sub('(?<=[A-z])(\\n)(?=[A-z])',' ',string_to_print) # remove random extra newlines\n",
    "        string_to_print = re.sub('(#{3,6} )(?P<Header>.*)(?=\\n\\n)','**\\g<Header>** ',string_to_print) #make all headers just bold\n",
    "    else:\n",
    "        display(Markdown(string_to_print))\n",
    "    \n",
    "def create_replaced(input_string,word_to_count_dict,count_to_word_dict,count_the_word_dict,count):\n",
    "    delims=['\\n',r'.',r',',r'(',r')',r'[',r']',r'<',r'>',r'\"',r':',r';',r'-',r'/',r'–',r'=',r'%',r'',r' ']\n",
    "    words = [x for x in re.split(r'([ |\\n|=|.|,|(|)|[|]|<|>|\"|:|;|-|/|–|%])',input_string)]\n",
    "    new_string = ''\n",
    "\n",
    "    for word in words:\n",
    "        if type(word)==str:\n",
    "            word_lower = word.lower()\n",
    "        if word in delims:\n",
    "            new_string += word\n",
    "        elif word_lower not in word_to_count_dict.keys():\n",
    "            word_to_count_dict[word_lower]={word:str(count)}\n",
    "            count_to_word_dict[str(count)]=['-'*len(word),word]\n",
    "            new_string += str(count)\n",
    "            count += 1\n",
    "            count_the_word_dict[word_lower]=1\n",
    "        else:\n",
    "            if word not in word_to_count_dict[word_lower].keys():\n",
    "                word_to_count_dict[word_lower][word]=str(count)\n",
    "                count_to_word_dict[str(count)]=['-'*len(word),word]\n",
    "                new_string += str(count)\n",
    "                count += 1\n",
    "                count_the_word_dict[word_lower]+=1\n",
    "            else:\n",
    "                new_string += word_to_count_dict[word_lower][word]\n",
    "                count_the_word_dict[word_lower]+=1\n",
    "    no_delim_lowercase_words = [x.lower() for x in words if x not in delims]\n",
    "    return new_string,no_delim_lowercase_words,word_to_count_dict,count_to_word_dict,count_the_word_dict,count\n",
    "    \n",
    "\n",
    "word_to_count_dict = {}\n",
    "count_to_word_dict = {}\n",
    "count_the_word_dict = {}\n",
    "count = 9897098660698\n",
    "\n",
    "content_string,_,word_to_count_dict,count_to_word_dict,count_the_word_dict,count = create_replaced(content,word_to_count_dict,count_to_word_dict,count_the_word_dict,count)\n",
    "name_string,name_list,word_to_count_dict,count_to_word_dict,count_the_word_dict,count = create_replaced(name,word_to_count_dict,count_to_word_dict,count_the_word_dict,count)\n",
    "\n",
    "tried = []\n",
    "\n",
    "starting_guesses = ['a','an','is','the','of', 'in', 'to', 'was', 'for', 'as',\n",
    "'around', 'from', 'since', 'with', 'and', 'or', 'on', 'along', 'through', 'amid', \n",
    "'into', 'like', 'by', 'between', 'than', 'about', 'until', 'at', 'but', 'among', \n",
    "'following', 'over', 'after', 'during', 'behind', 'up', 'down', 'before', 'onto', \n",
    "'without', 'unlike', 'because', 'against', 'inside', 'outside','except','per']\n",
    "\n",
    "for eachguess in starting_guesses:\n",
    "    try:\n",
    "        tried.append(eachguess)\n",
    "        count = word_to_count_dict[eachguess]\n",
    "        for eachcap in word_to_count_dict[eachguess].keys():\n",
    "            count = word_to_count_dict[eachguess][eachcap]\n",
    "            count_to_word_dict[count]=count_to_word_dict[count][1:]\n",
    "        name_list.remove(eachguess)\n",
    "    except:\n",
    "        pass\n",
    "    \n",
    "#guess = ipywidgets.Text(value='the')\n",
    "#guess\n",
    "#thisguess = guess.value.lower()\n",
    "\n",
    "def execute_guess(name_string,content_string,count_to_word_dict,count_the_word_dict,word_to_count_dict,thisguess):\n",
    "    thisguess_lower = thisguess.lower()\n",
    "    if thisguess_lower in tried:\n",
    "        display(Markdown('Already tried'))\n",
    "        print_redacted(name_string,count_to_word_dict,bold=True)\n",
    "        print_redacted(content_string,count_to_word_dict)\n",
    "    elif thisguess_lower not in word_to_count_dict.keys():\n",
    "        display(Markdown('Nope'))\n",
    "        print_redacted(name_string,count_to_word_dict,bold=True)\n",
    "        print_redacted(content_string,count_to_word_dict)\n",
    "        tried.append(thisguess_lower)\n",
    "    else:\n",
    "        tried.append(thisguess_lower)\n",
    "        if thisguess_lower in name_list:\n",
    "            name_list.remove(thisguess_lower)\n",
    "        if len(name_list)>0:\n",
    "            for eachcap in word_to_count_dict[thisguess_lower].keys():\n",
    "                count = word_to_count_dict[thisguess_lower][eachcap]\n",
    "                count_to_word_dict[count]=count_to_word_dict[count][1:]\n",
    "            display(Markdown(f\"{thisguess} appears {count_the_word_dict[thisguess_lower]} times\"))\n",
    "        else:\n",
    "            display(Markdown('Hooray! \\n'))\n",
    "            for k,v in count_to_word_dict.items():\n",
    "                if len(v)>1:\n",
    "                    count_to_word_dict[k]=v[1:]\n",
    "        print_redacted(name_string,count_to_word_dict,bold=True)\n",
    "        print_redacted(content_string,count_to_word_dict)"
   ]
  },
  {
   "cell_type": "code",
   "execution_count": null,
   "id": "9fe73f0c",
   "metadata": {
    "tags": [
     "hide-input",
     "thebe-init"
    ]
   },
   "outputs": [],
   "source": [
    "thisguess = \"the\"\n",
    "execute_guess(name_string,content_string,count_to_word_dict,count_the_word_dict,word_to_count_dict,thisguess)"
   ]
  },
  {
   "cell_type": "markdown",
   "id": "4986342b",
   "metadata": {},
   "source": [
    "# Answers/Give up?"
   ]
  },
  {
   "cell_type": "code",
   "execution_count": null,
   "id": "c8adf50b",
   "metadata": {
    "tags": [
     "hide-cell",
     "thebe-init"
    ]
   },
   "outputs": [],
   "source": [
    "#Give up? Uncomment(remove the # from) the line below and run \n",
    "#print(name)"
   ]
  },
  {
   "cell_type": "code",
   "execution_count": null,
   "id": "e873977a",
   "metadata": {},
   "outputs": [],
   "source": []
  }
 ],
 "metadata": {
  "celltoolbar": "Tags",
  "jupytext": {
   "text_representation": {
    "extension": ".md",
    "format_name": "myst",
    "format_version": 0.13,
    "jupytext_version": "1.11.5"
   }
  },
  "kernelspec": {
   "display_name": "Python 3 (ipykernel)",
   "language": "python",
   "name": "python3"
  },
  "language_info": {
   "codemirror_mode": {
    "name": "ipython",
    "version": 3
   },
   "file_extension": ".py",
   "mimetype": "text/x-python",
   "name": "python",
   "nbconvert_exporter": "python",
   "pygments_lexer": "ipython3",
   "version": "3.8.11"
  },
  "toc-autonumbering": false,
  "toc-showcode": true,
  "toc-showmarkdowntxt": false,
  "toc-showtags": true
 },
 "nbformat": 4,
 "nbformat_minor": 5
}
