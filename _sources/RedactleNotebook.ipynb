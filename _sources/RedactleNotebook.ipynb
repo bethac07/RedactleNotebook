{
 "cells": [
  {
   "cell_type": "code",
   "execution_count": 1,
   "id": "9e047687",
   "metadata": {
    "tags": [
     "hide-cell",
     "thebe-init"
    ]
   },
   "outputs": [],
   "source": [
    "import wikipedia\n",
    "import ipywidgets\n",
    "import re\n",
    "import textwrap\n",
    "import urllib"
   ]
  },
  {
   "cell_type": "code",
   "execution_count": 2,
   "id": "59c03cb4",
   "metadata": {
    "tags": [
     "hide-input",
     "thebe-init"
    ]
   },
   "outputs": [
    {
     "data": {
      "application/vnd.jupyter.widget-view+json": {
       "model_id": "231bf8912c634c82a32842d9de8f525b",
       "version_major": 2,
       "version_minor": 0
      },
      "text/plain": [
       "IntSlider(value=5, description='Difficulty', max=5, min=1)"
      ]
     },
     "metadata": {},
     "output_type": "display_data"
    }
   ],
   "source": [
    "level = ipywidgets.IntSlider(\n",
    "    value=5,\n",
    "    min=1,\n",
    "    max=5,\n",
    "    step=1,\n",
    "    description='Difficulty')\n",
    "\n",
    "level"
   ]
  },
  {
   "cell_type": "code",
   "execution_count": 3,
   "id": "63748f91",
   "metadata": {
    "tags": [
     "hide-cell",
     "thebe-init"
    ]
   },
   "outputs": [],
   "source": [
    "urlname = f'https://randomincategory.toolforge.org/?category=All%20Wikipedia%20level-{level.value}%20vital%20articles&server=en.wikipedia.org&cmnamespace=&cmtype=&returntype=subject'\n",
    "\n",
    "try:\n",
    "  name = urllib.request.urlopen(urlname).read(500).decode().split('title>')[1].split(' - Wikipedia')[0]\n",
    "  content = wikipedia.page(name,auto_suggest=False).content\n",
    "except:\n",
    "  name = urllib.request.urlopen(urlname).read(500).decode().split('title>')[1].split(' - Wikipedia')[0]\n",
    "  content = wikipedia.page(name,auto_suggest=False).content\n",
    "\n",
    "def print_redacted(new_string,count_to_word_dict):\n",
    "  string_to_print = ''\n",
    "  delims=['\\n',r'===',r'==',r'.',r',',r'(',r')',r'[',r']',r'<',r'>',r'\"',r':',r';',r'-',r'/',r'–',r'=',r'%']\n",
    "  for word in re.split(r'([ |\\n|=|.|,|(|)|[|]|<|>|\"|:|;|-|/|–|%])',new_string):\n",
    "    if type(word)==str:\n",
    "      if word in delims:\n",
    "        string_to_print += word\n",
    "      elif word in count_to_word_dict.keys():\n",
    "        if len(count_to_word_dict[word])>0:\n",
    "          string_to_print += count_to_word_dict[word][0]+' '\n",
    "      else:\n",
    "        pass\n",
    "  print(string_to_print)\n",
    "\n",
    "\n",
    "word_to_count_dict = {}\n",
    "count_to_word_dict = {}\n",
    "count_the_word_dict = {}\n",
    "new_string =''\n",
    "count = 9897098660698\n",
    "delims=['\\n',r'.',r',',r'(',r')',r'[',r']',r'<',r'>',r'\"',r':',r';',r'-',r'/',r'–',r'=',r'%',r'',r' ']\n",
    "words = [x for x in re.split(r'([ |\\n|=|.|,|(|)|[|]|<|>|\"|:|;|-|/|–|%])',name+' \\n\\n '+content)]\n",
    "for word in words:\n",
    "  if type(word)==str:\n",
    "    word = word.lower()\n",
    "    if word in delims:\n",
    "      if word not in ['',' ']:\n",
    "        new_string += word\n",
    "    elif word not in word_to_count_dict.keys():\n",
    "      word_to_count_dict[word]=str(count)\n",
    "      count_to_word_dict[str(count)]=['-'*len(word),word]\n",
    "      new_string += str(count)+' '\n",
    "      count += 1\n",
    "      count_the_word_dict[word]=1\n",
    "    else:\n",
    "      new_string += word_to_count_dict[word]+' '\n",
    "      count_the_word_dict[word]+=1\n",
    "\n",
    "new_string = textwrap.fill(new_string,break_long_words=False,width=200,replace_whitespace=False,\n",
    "                           drop_whitespace=False, break_on_hyphens=False)\n",
    "tried = []\n",
    "name_list = re.split(r'[ |\\n|===|==|.|,|(|)|[|]|<|>|\"|:|;|-|/|–|=|%|]{1,3}',name)\n",
    "name_list = [x.lower() for x in name_list]\n",
    "\n",
    "starting_guesses = ['a','an','is','the','of', 'in', 'to', 'was', 'for', 'as',\n",
    "'around', 'from', 'since', 'with', 'and', 'or', 'on', 'along', 'through', 'amid', \n",
    "'into', 'like', 'by', 'between', 'than', 'about', 'until', 'at', 'but', 'among', \n",
    "'following', 'over', 'after', 'during', 'behind', 'up', 'down', 'before', 'onto', \n",
    "'without', 'unlike', 'because', 'against', 'inside', 'outside','except','per']\n",
    "for eachguess in starting_guesses:\n",
    "  try:\n",
    "    tried.append(eachguess)\n",
    "    count = word_to_count_dict[eachguess]\n",
    "    count_to_word_dict[count]=count_to_word_dict[count][1:]\n",
    "    name_list.remove(eachguess)\n",
    "  except:\n",
    "    pass"
   ]
  },
  {
   "cell_type": "code",
   "execution_count": 4,
   "id": "22429422",
   "metadata": {
    "tags": [
     "hide-input",
     "thebe-init",
     "margin"
    ]
   },
   "outputs": [
    {
     "data": {
      "application/vnd.jupyter.widget-view+json": {
       "model_id": "954340bc5a9743f0a47318aaf53eac3d",
       "version_major": 2,
       "version_minor": 0
      },
      "text/plain": [
       "Text(value='the')"
      ]
     },
     "metadata": {},
     "output_type": "display_data"
    }
   ],
   "source": [
    "guess = ipywidgets.Text(value='the')\n",
    "\n",
    "guess"
   ]
  },
  {
   "cell_type": "code",
   "execution_count": 5,
   "id": "b04b7838",
   "metadata": {
    "tags": [
     "hide-input",
     "thebe-init"
    ]
   },
   "outputs": [
    {
     "name": "stdout",
     "output_type": "stream",
     "text": [
      "already tried, here is what you tried already: a, an, is, the, of, in, to, was, for, as, around, from, since, with,\n",
      "and, or, on, along, through, amid, into, like, by, between, than,\n",
      "about, until, at, but, among, following, over, after, during, behind,\n",
      "up, down, before, onto, without, unlike, because, against, inside,\n",
      "outside, except, per\n",
      "------ -------- \n",
      "\n",
      "------ ------ ------- -------- (------ ------------- :[-------- ------------ ;- ------- ---- \n",
      "–-- ------ ---- )was a ------ --------- and ------------- and is ---------- --- of \n",
      "the ------- -------- of the ------- of -------------- .by --- ----------- of ---- -------- \n",
      "--------- ----- as the ------ ----- ,-- ---- the ------ of ---- a ----- \n",
      "and ------- ----- .--- ---- --------- ----- ,\"on the ------ ----- of ---- \",--------- \n",
      "in ---- ,----- ------ the ----- ----- of the ------ --- of -------------- .in \n",
      "---- -- ---------- the ------- of ------- .in ---- -- ---------- the ------ ------- \n",
      ",----- ------- to ---- .\n",
      "\n",
      "\n",
      "==---- ==\n",
      "-------- was ---- in ------ (--- -------- ,------ \n",
      ")in the -------- of --------- in ------- .--- ------ was a ---------- ------ and \n",
      "------ --------- ,and ------ ------- in the ------ of --- ------ .in ---- ,-- \n",
      "---- to the --------- in ------- .-------- --------- from the ---------- of ------ in \n",
      "---- ----- -- --- ------- ----------- and ------- since ---- with ,among ------ ,------ \n",
      "------ ,----- ------ ------- --------- and ----- ------- .-- ---- ------- ------- with ------- \n",
      "--- ----- .during ---- ,-- --- --- --------- from the ---------- of ----- on \n",
      "------- ------- in ------- ---------- .in ---- -- ------ --------- of ------- at the \n",
      "----- --------- and ----------- ------ in ------ and ------------ at the ------ ---------- .in \n",
      "---- -- ------ --------- at the --- ------ ,the ----- ------- --------- of ---------- \n",
      "in ------ ,----- -- ------ until ---- .during ---- ---- ,-- ----- to -------- \n",
      "and --- ----- ----- ,in ---- to ---- .in ---- -------- --------- an --------- \n",
      "----- in the ------ --------- --- .-- was ------- in ------ ,------- --- with \n",
      "a ------- ---------- .-- was ------- the ---- ----- for --- -------- .\n",
      "--- ---- \n",
      ",-------- ------ ---- in ---- ,------- --- to ----- ----- --- -------- .in ---- \n",
      ",-- ------- ------ ---- ,and ---- --- ------- ----- .--- ----- ----- ,on -- \n",
      "------ ---- ,-- ---- in ---- ,------- .\n",
      "\n",
      "\n",
      "==---- ==\n",
      "---------- --- ------ ---------- the \n",
      "---------- of ----- -------- ---- -- --- a ---- --- during the --- ,and \n",
      "------- ------ of --- at ------- and ------ (among ----- --------- )--- to ---------- \n",
      "and ---------- of ----- .----- ,---- -------- ----- ---- ---- -- was in ---- \n",
      "--- to the ---------- of ----- ,but ---------- ,-------- ---- a --- ---- ------------ \n",
      "-------- than ---- ---- ---- .\n",
      "--- ---- ------ ----- ,----- --- --------- ----- --- \n",
      "----- (\"on the ------ ----- of ---- and the ---- of ---- ----- --- \n",
      "-- ------- --------- \")\n",
      "was --------- in ---- ,and ----- with the ---------- ------ of \n",
      "---- .in ---- ----- ,-- ------ ----- was a ------------- between -------- --------- and \n",
      "the ------- of ------------ of ------ .-------- -------- the --- ---- of -------------- to \n",
      "-------- ---- ------------- .---- ----- ---- --- ------ among ---------- .(the ----- --- was \n",
      "--------- by ------- ------ ,during the ----- ---- –---- ).\n",
      "---------- ---- ------ --------- of \n",
      "the ------ --- of -------------- was --------- in ------ in ---- ,and in ------- \n",
      "in ---- .\n",
      "---- --- ----- ---- from a ------ to a ------ ---- without \n",
      "---- ----- ------ ,--------- --------- ,--------- at the ---- ---- .\n",
      "during ---- ,-------- ----------- \n",
      "to the ----- of ------- ------ after -------- ------ -------- ---- ------ --- -------- \n",
      "----- to ------- ------------- ,---------- and ----------- --------- ------- .in ---- ---- ---- -- \n",
      "---------- the ------- of ----- ---- ----- of a -------- .-------- ------- the -------- \n",
      "–--------- -------- from -------------- .---- -------- ,----- is a --- of -------------- the ----- \n",
      "---------- between --- ------ of ------ ---- as ----- and ------ ,--- ---------- ---- \n",
      "--------- in ---- by ----- --------- .\n",
      "\n",
      "\n",
      "===------- ===\n",
      "\n",
      "in ---- ,-------- ---- the ----- \n",
      "------------ ------- of the ------- of ------- ,and ---- ---- -- --- ---- .-------- \n",
      "----- the ---- because the ------- (from ----- -- -- \"in \"and ----- ----- \n",
      "\"-------------- \")is \"------- -------------- \"or \"-------------- ------- \"(\"------------------ \").-- ---- the --- --------- \n",
      "---- ---------- (------ :-- )for ------- .\n",
      "- -------- (-- )=- ------- /------ ------- \n",
      "(--- /-- )=- .---- ------ per ------ (- /- )the -------- ---- ----- \n",
      "in ----- -- ---------- the ------- of ------- ---- with the following ------- of \n",
      "the ----- and ------ ---- of -------------- :\n",
      "the ------ of the -------- is -------- .\n",
      "\n",
      "the ------- of the -------- ----- to a ------- .\n",
      "-------- --------- --- ------ of \n",
      "\"------- \"as a ---- as ------- :\n",
      "- ------ ----- to the ------- --------- for \n",
      "the ----- of --------- ---------- ---------- ,-- ---- ---- --- ---- the ---- ----- \n",
      "in --- ------ ------- .- ------- ,--------- ,to ---- - the ------- of a \n",
      "---- ,after the ----- ---- \"-------------- \".- ---- ---------- ------ the ---- ------- to \n",
      "-- ------- to ------ ,for ----- --- ---------- --- -- --------- in ----- -------- \n",
      "------------ ,---- an ------- of ------------- ----- to -- ------- .\n",
      "---- ------ ----- ---- \n",
      "in ---- --- -- --------- in ------- a ---- ---- ----- the ---- ----- \n",
      "to --------- :------- .\n",
      "\n",
      "\n",
      "==-------- ==\n",
      "\n",
      "-------- ---------- of the ----------- of --------- and ------------ \n",
      "in -------- in ---- .----- ----------- of --------- and ------------ in -------- \n",
      "---- ----- \n",
      "of ---- \n",
      "------ of the ----- ------- of ------ in ---- and -------- --- \n",
      "------ ----- in ---- .\n",
      "------ of the ----- ------- ------- of -------- in ---- .\n",
      "\n",
      "------- ----- in ---- .\n",
      "------- ------ of the --------- --------- --- ------ in ---- \n",
      "in ---- \n",
      "------ of the ------ ------- of -------- ---------- in ---- \n",
      "-------- ----- \n",
      "in ---- .\n",
      "-------- --------- from the ---------- of -------- in ---- .\n",
      "------- ------ of \n",
      "the ----- ----------- ------- of ---- and -------- in ---- .\n",
      "---- -- ------ for \n",
      "---- and -------- in ---- \n",
      "the ----- ------ -------- ----- in --- ----- .\n",
      "a \n",
      "-------- in --- ---- ---- of -------- in ---- \n",
      "\n",
      "\n",
      "==------------ ==\n",
      "-------- ,- .(---- \n",
      ").the ---------- ------ of ---- –with --- ------------ to the ----- ------ and to \n",
      "-------- ---------- of ------ .------ :---- --- ------ .-------- :------------ .------- ------------ of ---- \n",
      "------ .\n",
      "------------ ---- --- --------- --- ------------ ------------ --- --- ------------ ------------- ,----- ----- \n",
      "---------- in --- ------------- ---------- --- ------------ (in ------ ).--- .- .--------- :------- \n",
      "----- ---------- .---- .\n",
      "\n",
      "\n",
      "==--- ---- ==\n",
      "---- ----- ------ ------ ------- ,--- of the \n",
      "-------- of the --------------- .\n",
      "\n",
      "\n",
      "==---------- ==\n",
      "\n",
      "\n",
      "==-------- ----- ==\n",
      "------- of ------- ------ by -------- \n",
      "\n",
      "-------- ,---- - .;--------- ,------ - .,\"------ -------- \",-------- ------- of ----------- ------- \n",
      ",---------- of -- ------- \n",
      "-------- ,---- ,-- .(---- ).\"-------- ,------ ------ -------- \".------------ \n",
      "---------- (---- -- .).--------- ---------- ----- .\n",
      "----- by ------ -------- at ------- --------- \n",
      "\n",
      "----- by or about ------ -------- at -------- ------- \n"
     ]
    }
   ],
   "source": [
    "thisguess = guess.value.lower()\n",
    "if thisguess in tried:\n",
    "  print('already tried, here is what you tried already:',textwrap.fill(', '.join(tried)))\n",
    "  print_redacted(new_string,count_to_word_dict)\n",
    "elif thisguess not in word_to_count_dict.keys():\n",
    "  print('Nope')\n",
    "  print_redacted(new_string,count_to_word_dict)\n",
    "  tried.append(thisguess)\n",
    "else:\n",
    "  tried.append(thisguess)\n",
    "  if thisguess in name_list:\n",
    "    name_list.remove(thisguess)\n",
    "  if len(name_list)>0:\n",
    "    count = word_to_count_dict[thisguess]\n",
    "    count_to_word_dict[count]=count_to_word_dict[count][1:]\n",
    "    print(f\"{thisguess} appears {count_the_word_dict[thisguess]} times\")\n",
    "  else:\n",
    "    print('Hooray! \\n')\n",
    "    for k,v in count_to_word_dict.items():\n",
    "      if len(v)>1:\n",
    "        count_to_word_dict[k]=v[1:]\n",
    "  print_redacted(new_string,count_to_word_dict)"
   ]
  },
  {
   "cell_type": "markdown",
   "id": "21d434ad",
   "metadata": {},
   "source": [
    "# Answers/Give up?"
   ]
  },
  {
   "cell_type": "code",
   "execution_count": 6,
   "id": "9ea2155f",
   "metadata": {
    "tags": [
     "hide-cell",
     "thebe-init"
    ]
   },
   "outputs": [
    {
     "name": "stdout",
     "output_type": "stream",
     "text": [
      "Rudolf Clausius\n"
     ]
    }
   ],
   "source": [
    "#Give up? Uncomment(remove the # from) the line below and run \n",
    "print(name)"
   ]
  }
 ],
 "metadata": {
  "jupytext": {
   "text_representation": {
    "extension": ".md",
    "format_name": "myst",
    "format_version": 0.13,
    "jupytext_version": "1.11.5"
   }
  },
  "kernelspec": {
   "display_name": "Python 3",
   "name": "python3"
  },
  "language_info": {
   "codemirror_mode": {
    "name": "ipython",
    "version": 3
   },
   "file_extension": ".py",
   "mimetype": "text/x-python",
   "name": "python",
   "nbconvert_exporter": "python",
   "pygments_lexer": "ipython3",
   "version": "3.8.12"
  },
  "source_map": [
   14,
   23,
   36,
   108,
   116,
   141,
   145
  ],
  "widgets": {
   "application/vnd.jupyter.widget-state+json": {
    "state": {
     "231bf8912c634c82a32842d9de8f525b": {
      "model_module": "@jupyter-widgets/controls",
      "model_module_version": "1.5.0",
      "model_name": "IntSliderModel",
      "state": {
       "_dom_classes": [],
       "_model_module": "@jupyter-widgets/controls",
       "_model_module_version": "1.5.0",
       "_model_name": "IntSliderModel",
       "_view_count": null,
       "_view_module": "@jupyter-widgets/controls",
       "_view_module_version": "1.5.0",
       "_view_name": "IntSliderView",
       "continuous_update": true,
       "description": "Difficulty",
       "description_tooltip": null,
       "disabled": false,
       "layout": "IPY_MODEL_70c4bca227664b4c885a3dd1ee529343",
       "max": 5,
       "min": 1,
       "orientation": "horizontal",
       "readout": true,
       "readout_format": "d",
       "step": 1,
       "style": "IPY_MODEL_def370a8d24a41c0927bf84a33295f90",
       "value": 5
      }
     },
     "31fe24b4433f40a6bb8100b8bb971db6": {
      "model_module": "@jupyter-widgets/controls",
      "model_module_version": "1.5.0",
      "model_name": "DescriptionStyleModel",
      "state": {
       "_model_module": "@jupyter-widgets/controls",
       "_model_module_version": "1.5.0",
       "_model_name": "DescriptionStyleModel",
       "_view_count": null,
       "_view_module": "@jupyter-widgets/base",
       "_view_module_version": "1.2.0",
       "_view_name": "StyleView",
       "description_width": ""
      }
     },
     "70c4bca227664b4c885a3dd1ee529343": {
      "model_module": "@jupyter-widgets/base",
      "model_module_version": "1.2.0",
      "model_name": "LayoutModel",
      "state": {
       "_model_module": "@jupyter-widgets/base",
       "_model_module_version": "1.2.0",
       "_model_name": "LayoutModel",
       "_view_count": null,
       "_view_module": "@jupyter-widgets/base",
       "_view_module_version": "1.2.0",
       "_view_name": "LayoutView",
       "align_content": null,
       "align_items": null,
       "align_self": null,
       "border": null,
       "bottom": null,
       "display": null,
       "flex": null,
       "flex_flow": null,
       "grid_area": null,
       "grid_auto_columns": null,
       "grid_auto_flow": null,
       "grid_auto_rows": null,
       "grid_column": null,
       "grid_gap": null,
       "grid_row": null,
       "grid_template_areas": null,
       "grid_template_columns": null,
       "grid_template_rows": null,
       "height": null,
       "justify_content": null,
       "justify_items": null,
       "left": null,
       "margin": null,
       "max_height": null,
       "max_width": null,
       "min_height": null,
       "min_width": null,
       "object_fit": null,
       "object_position": null,
       "order": null,
       "overflow": null,
       "overflow_x": null,
       "overflow_y": null,
       "padding": null,
       "right": null,
       "top": null,
       "visibility": null,
       "width": null
      }
     },
     "8939a2d07eb24bdf941545902fd69b13": {
      "model_module": "@jupyter-widgets/base",
      "model_module_version": "1.2.0",
      "model_name": "LayoutModel",
      "state": {
       "_model_module": "@jupyter-widgets/base",
       "_model_module_version": "1.2.0",
       "_model_name": "LayoutModel",
       "_view_count": null,
       "_view_module": "@jupyter-widgets/base",
       "_view_module_version": "1.2.0",
       "_view_name": "LayoutView",
       "align_content": null,
       "align_items": null,
       "align_self": null,
       "border": null,
       "bottom": null,
       "display": null,
       "flex": null,
       "flex_flow": null,
       "grid_area": null,
       "grid_auto_columns": null,
       "grid_auto_flow": null,
       "grid_auto_rows": null,
       "grid_column": null,
       "grid_gap": null,
       "grid_row": null,
       "grid_template_areas": null,
       "grid_template_columns": null,
       "grid_template_rows": null,
       "height": null,
       "justify_content": null,
       "justify_items": null,
       "left": null,
       "margin": null,
       "max_height": null,
       "max_width": null,
       "min_height": null,
       "min_width": null,
       "object_fit": null,
       "object_position": null,
       "order": null,
       "overflow": null,
       "overflow_x": null,
       "overflow_y": null,
       "padding": null,
       "right": null,
       "top": null,
       "visibility": null,
       "width": null
      }
     },
     "954340bc5a9743f0a47318aaf53eac3d": {
      "model_module": "@jupyter-widgets/controls",
      "model_module_version": "1.5.0",
      "model_name": "TextModel",
      "state": {
       "_dom_classes": [],
       "_model_module": "@jupyter-widgets/controls",
       "_model_module_version": "1.5.0",
       "_model_name": "TextModel",
       "_view_count": null,
       "_view_module": "@jupyter-widgets/controls",
       "_view_module_version": "1.5.0",
       "_view_name": "TextView",
       "continuous_update": true,
       "description": "",
       "description_tooltip": null,
       "disabled": false,
       "layout": "IPY_MODEL_8939a2d07eb24bdf941545902fd69b13",
       "placeholder": "​",
       "style": "IPY_MODEL_31fe24b4433f40a6bb8100b8bb971db6",
       "value": "the"
      }
     },
     "def370a8d24a41c0927bf84a33295f90": {
      "model_module": "@jupyter-widgets/controls",
      "model_module_version": "1.5.0",
      "model_name": "SliderStyleModel",
      "state": {
       "_model_module": "@jupyter-widgets/controls",
       "_model_module_version": "1.5.0",
       "_model_name": "SliderStyleModel",
       "_view_count": null,
       "_view_module": "@jupyter-widgets/base",
       "_view_module_version": "1.2.0",
       "_view_name": "StyleView",
       "description_width": "",
       "handle_color": null
      }
     }
    },
    "version_major": 2,
    "version_minor": 0
   }
  }
 },
 "nbformat": 4,
 "nbformat_minor": 5
}