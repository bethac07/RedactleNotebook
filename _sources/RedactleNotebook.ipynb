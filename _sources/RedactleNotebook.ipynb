{
 "cells": [
  {
   "cell_type": "code",
   "execution_count": 1,
   "id": "6f52bf2a",
   "metadata": {
    "tags": [
     "hide-cell",
     "thebe-init"
    ]
   },
   "outputs": [],
   "source": [
    "import wikipedia\n",
    "import ipywidgets\n",
    "import re\n",
    "import textwrap\n",
    "import urllib"
   ]
  },
  {
   "cell_type": "code",
   "execution_count": 2,
   "id": "37add292",
   "metadata": {
    "tags": [
     "hide-input",
     "thebe-init"
    ]
   },
   "outputs": [
    {
     "data": {
      "application/vnd.jupyter.widget-view+json": {
       "model_id": "639308d538d84f23b73a6996c848738f",
       "version_major": 2,
       "version_minor": 0
      },
      "text/plain": [
       "IntSlider(value=5, description='Difficulty', max=5, min=1)"
      ]
     },
     "metadata": {},
     "output_type": "display_data"
    }
   ],
   "source": [
    "level = ipywidgets.IntSlider(\n",
    "    value=5,\n",
    "    min=1,\n",
    "    max=5,\n",
    "    step=1,\n",
    "    description='Difficulty')\n",
    "\n",
    "level"
   ]
  },
  {
   "cell_type": "code",
   "execution_count": 3,
   "id": "9936bb44",
   "metadata": {
    "tags": [
     "hide-cell",
     "thebe-init"
    ]
   },
   "outputs": [],
   "source": [
    "urlname = f'https://randomincategory.toolforge.org/?category=All%20Wikipedia%20level-{level.value}%20vital%20articles&server=en.wikipedia.org&cmnamespace=&cmtype=&returntype=subject'\n",
    "\n",
    "try:\n",
    "  name = urllib.request.urlopen(urlname).read(500).decode().split('title>')[1].split(' - Wikipedia')[0]\n",
    "  content = wikipedia.page(name).content\n",
    "except:\n",
    "  name = urllib.request.urlopen(urlname).read(500).decode().split('title>')[1].split(' - Wikipedia')[0]\n",
    "  content = wikipedia.page(name).content\n",
    "\n",
    "def print_redacted(new_string,count_to_word_dict):\n",
    "  string_to_print = ''\n",
    "  delims=['\\n',r'===',r'==',r'.',r',',r'(',r')',r'[',r']',r'<',r'>',r'\"',r':',r';',r'-',r'/',r'–',r'=',r'%']\n",
    "  for word in re.split(r'([ |\\n|=|.|,|(|)|[|]|<|>|\"|:|;|-|/|–|%])',new_string):\n",
    "    if type(word)==str:\n",
    "      if word in delims:\n",
    "        string_to_print += word\n",
    "      elif word in count_to_word_dict.keys():\n",
    "        if len(count_to_word_dict[word])>0:\n",
    "          string_to_print += count_to_word_dict[word][0]+' '\n",
    "      else:\n",
    "        pass\n",
    "  print(string_to_print)\n",
    "\n",
    "\n",
    "word_to_count_dict = {}\n",
    "count_to_word_dict = {}\n",
    "count_the_word_dict = {}\n",
    "new_string =''\n",
    "count = 9897098660698\n",
    "delims=['\\n',r'.',r',',r'(',r')',r'[',r']',r'<',r'>',r'\"',r':',r';',r'-',r'/',r'–',r'=',r'%',r'',r' ']\n",
    "words = [x for x in re.split(r'([ |\\n|=|.|,|(|)|[|]|<|>|\"|:|;|-|/|–|%])',name+' \\n\\n '+content)]\n",
    "for word in words:\n",
    "  if type(word)==str:\n",
    "    word = word.lower()\n",
    "    if word in delims:\n",
    "      if word not in ['',' ']:\n",
    "        new_string += word\n",
    "    elif word not in word_to_count_dict.keys():\n",
    "      word_to_count_dict[word]=str(count)\n",
    "      count_to_word_dict[str(count)]=['-'*len(word),word]\n",
    "      new_string += str(count)+' '\n",
    "      count += 1\n",
    "      count_the_word_dict[word]=1\n",
    "    else:\n",
    "      new_string += word_to_count_dict[word]+' '\n",
    "      count_the_word_dict[word]+=1\n",
    "\n",
    "new_string = textwrap.fill(new_string,break_long_words=False,width=200,replace_whitespace=False,\n",
    "                           drop_whitespace=False, break_on_hyphens=False)\n",
    "tried = []\n",
    "name_list = re.split(r'[ |\\n|===|==|.|,|(|)|[|]|<|>|\"|:|;|-|/|–|=|%|]{1,3}',name)\n",
    "name_list = [x.lower() for x in name_list]\n",
    "\n",
    "starting_guesses = ['a','an','is','the','of', 'in', 'to', 'was', 'for', 'as',\n",
    "'around', 'from', 'since', 'with', 'and', 'or', 'on', 'along', 'through', 'amid', \n",
    "'into', 'like', 'by', 'between', 'than', 'about', 'until', 'at', 'but', 'among', \n",
    "'following', 'over', 'after', 'during', 'behind', 'up', 'down', 'before', 'onto', \n",
    "'without', 'unlike', 'because', 'against', 'inside', 'outside']\n",
    "for eachguess in starting_guesses:\n",
    "  try:\n",
    "    tried.append(eachguess)\n",
    "    count = word_to_count_dict[eachguess]\n",
    "    count_to_word_dict[count]=count_to_word_dict[count][1:]\n",
    "    name_list.remove(eachguess)\n",
    "  except:\n",
    "    pass"
   ]
  },
  {
   "cell_type": "code",
   "execution_count": 4,
   "id": "fccf3274",
   "metadata": {
    "tags": [
     "hide-input",
     "thebe-init",
     "margin"
    ]
   },
   "outputs": [
    {
     "data": {
      "application/vnd.jupyter.widget-view+json": {
       "model_id": "27a0ddcc57b94977a3095b9b449b34af",
       "version_major": 2,
       "version_minor": 0
      },
      "text/plain": [
       "Text(value='the')"
      ]
     },
     "metadata": {},
     "output_type": "display_data"
    }
   ],
   "source": [
    "guess = ipywidgets.Text(value='the')\n",
    "\n",
    "guess"
   ]
  },
  {
   "cell_type": "code",
   "execution_count": 5,
   "id": "fba3a7a8",
   "metadata": {
    "tags": [
     "hide-input",
     "thebe-init"
    ]
   },
   "outputs": [
    {
     "name": "stdout",
     "output_type": "stream",
     "text": [
      "already tried, here is what you tried already: a, an, is, the, of, in, to, was, for, as, around, from, since, with,\n",
      "and, or, on, along, through, amid, into, like, by, between, than,\n",
      "about, until, at, but, among, following, over, after, during, behind,\n",
      "up, down, before, onto, without, unlike, because, against, inside,\n",
      "outside\n",
      "-------- -------- \n",
      "\n",
      "-------- -------- is a ------- of -------- ------ ----- in ---- ----- \n",
      "of the -------- -------- and -------- ------- ------ ,-------- the ------ ---------- --- ----- \n",
      "is -------- as a -------- ------- ,- .---- .the ---- and ----------- ------------ ------ \n",
      "to ---- as the -------- ----- .----- ------ ----- ------- ---- ------ ,--------- ----- \n",
      ",---- ---- ----- ,------ ------ ,----- -------- ----- ,-------- ------ ,--------- ----- and \n",
      "----- ------ .\n",
      "\n",
      "\n",
      "==------------ ==\n",
      "-------- -------- ------- ----- on a ---- ----- ------- at \n",
      "------ of -- to - ,--- - (-- –- ,--- -- ),in ------ \n",
      "with a ----------- of - to - -- (-- –-- -- ),-------- -- --- \n",
      "---- -------- from - to - ,--- - (-- –- ,--- -- )and -- \n",
      "to -- -- (-- –-- -- ).- .-------- ------- in ------ ----- the \n",
      "-------- ------ between -- and -- --- ,--------- on ----- the ------ --- at \n",
      "in ----- ---- ----- .the ------------ of the ----- -------- -------- ---------- - .- \n",
      ".-------- ------ from --- ------- in the ------ ------ ,-------- ------- -------- (--- ------------ \n",
      "and -------- and ------- ------ ------ in ------- ),-------- and ------- --------- ,------- ,-------- \n",
      ",------ and the ----- --- as --- ----- as the ------- ------- .the ----- \n",
      "------- - .- .---- is ----- from ----- and ----- ,through the --- of \n",
      "------- ,------ the ------ ------ ,and as --- ----- as the - .- .----- \n",
      "of ---------- .------- of --------- -- as a ---------- ,the ----- ------- ---------- is \n",
      "----- ---------- as a -------- ------- ,- .---- .\n",
      "\n",
      "\n",
      "==------- ==\n",
      "------- --- ------------- ------- \n",
      "---- ---- -------- -------- ----- a --- ---- in ------ ---- ---- ,by ------- \n",
      "on a ------- ----- of ---- ,--------- ---------- ----------- and ------------ .---- --------- of \n",
      "---- --- --- ---- -- -------- in ----- -------- ,-------- as a ------ of \n",
      "----- ---- as ----------- ---------- .---- --- ---- ---- ------- to ------- -------- -------- \n",
      "as an --------- ------- ------- for --------- --------- ---- --------- in ------ ------ ---------- .\n",
      "\n",
      "\n",
      "\n",
      "==---------- ==\n",
      "in ----- up to ----- ----- -------- ,----- --- ----- a ------ \n",
      "of -- -- (- .- in ),----- ------- --- ----- -- .- -- \n",
      "(- .- in )---- ,-------- ------- ----- --- ---- ------- .the ---- of ------ \n",
      "at --------- ---- --- ---- --- to ----------- ------- in the ----- and --- \n",
      "of the ------ .the ---- of -------- -------- ----------- --- ------ ----- on --- \n",
      ",----------- of the ----------- and --- .------ ----------- ----- --- ---- ---------- with ------ \n",
      "------ .the ------ --- -------------- ,------------ ----------- -------------- .---- --- ---- as ---- ,but \n",
      "after ------------- --- and a ---- ----- ,----- ------ ---- to ------- and ---- \n",
      "-------- ----- ----- as ------- .-------- -------- -------- ------ ------ in the ---- ------ \n",
      ",------- -------- .by ----- ---- the ------- ---- ----- to ------- ----- ---- onto \n",
      "----- ------- .---- is ---- ---- ---- ---- ------- ----- ----- ---- ---- ----- \n",
      "in the ------ .\n",
      "\n",
      "\n",
      "==---------- ------- ==\n",
      "\n",
      "-------- -------- is an --------- ---- -------- ,and \n",
      "--- ---- ------ ------ since the ----- ----- in ------ ,and ----- in ----- \n",
      "--------- following ----- ------- --------- ----------- of --- to ------ ---- .in ------ ,----- \n",
      "------ --- ---- ------ ,------ and ------ in ---- in ------------ ,and --- -------- \n",
      "as ---------- .\n",
      "-------- ------ ---- a ----- ---- ,----- ----------- to a -------- ----- \n",
      "on a ------ ----- .------- ,the ------- is --- ---------- ---------- --- to a \n",
      "----- ------ -------- and a ----- ------ --------- .\n",
      "in ------ ,the ------ ------- ----- \n",
      "is --- to --- ,--- ------ (---- ).the -------- ------- ----- in the ----- \n",
      "and -------- in ----- .\n",
      "in --- ------- ,-------- ------ ---- a -------- ------- ----- \n",
      "from the ---- ----- to ---- .-------- -------- was in ---- ------ --- to \n",
      "-- ----- ---------- ------- and ------- than ------- ------ .------- ---------- ------ in ---- \n",
      "with -------- at -- .- ------- ------ .in ---- ,the -------- ------ ------ --------- \n",
      "---------- (----- ------ the -------- -------- of the ------ ------ )---------- ---- ----- ------ \n",
      "of - .-------- ---- --- --- and ---- down the --- ------- ------- .---- \n",
      "was the ----- ------------ in -- ----- .the ------- --- --- to ------- since \n",
      "-- --------- and ------- from ---- ------ ---- -------- ------ ----- ------ in a \n",
      "-------- --------- .with ------------ ---------- ------ ,and a --- -------- ----- ------- (--- ),the \n",
      "-------- ---------- for -------- ------ ------ ----------- .------ ------------ and ------ -------- ------- ----- \n",
      "-------- the ----------- and -------- the ---------- ---- in the ---- --- ------- ,------- \n",
      "------------ --- ---------- to ---- ------ --- the ----- of ----- --- to ------- \n",
      "------ and --------- the -------- ------ --------- .\n",
      "\n",
      "\n",
      "==---- ==\n",
      "------ ----- ----------- ,------ -------- \n",
      "----------- (--- ),an ------ ---- in --------- ------- ,is -------- from -------- -------- ,and \n",
      "the -------- -------- is a ------ of -------- ,a --------- -------- ---- for ---- \n",
      "--------- ------------ as -------- -------- ------ ,--------- ---- or --------- the ---- in ------- \n",
      "------- .\n",
      "\n",
      "\n",
      "==---------- ==\n",
      "\n",
      "\n",
      "==-------- ----- ==\n",
      "----- ------- to -------- -------- at --------- ------- \n"
     ]
    }
   ],
   "source": [
    "thisguess = guess.value.lower()\n",
    "if thisguess in tried:\n",
    "  print('already tried, here is what you tried already:',textwrap.fill(', '.join(tried)))\n",
    "  print_redacted(new_string,count_to_word_dict)\n",
    "elif thisguess not in word_to_count_dict.keys():\n",
    "  print('Nope')\n",
    "  print_redacted(new_string,count_to_word_dict)\n",
    "  tried.append(thisguess)\n",
    "else:\n",
    "  tried.append(thisguess)\n",
    "  if thisguess in name_list:\n",
    "    name_list.remove(thisguess)\n",
    "  if len(name_list)>0:\n",
    "    count = word_to_count_dict[thisguess]\n",
    "    count_to_word_dict[count]=count_to_word_dict[count][1:]\n",
    "    print(f\"{thisguess} appears {count_the_word_dict[thisguess]} times\")\n",
    "  else:\n",
    "    print('Hooray! \\n')\n",
    "    for k,v in count_to_word_dict.items():\n",
    "      if len(v)>1:\n",
    "        count_to_word_dict[k]=v[1:]\n",
    "  print_redacted(new_string,count_to_word_dict)"
   ]
  },
  {
   "cell_type": "markdown",
   "id": "1af9b627",
   "metadata": {},
   "source": [
    "# Answers/Give up?"
   ]
  },
  {
   "cell_type": "code",
   "execution_count": 6,
   "id": "3e9cf0dd",
   "metadata": {
    "tags": [
     "hide-cell",
     "thebe-init"
    ]
   },
   "outputs": [
    {
     "name": "stdout",
     "output_type": "stream",
     "text": [
      "Pandalus borealis\n"
     ]
    }
   ],
   "source": [
    "#Give up? Uncomment(remove the # from) the line below and run \n",
    "print(name)"
   ]
  }
 ],
 "metadata": {
  "jupytext": {
   "text_representation": {
    "extension": ".md",
    "format_name": "myst",
    "format_version": 0.13,
    "jupytext_version": "1.11.5"
   }
  },
  "kernelspec": {
   "display_name": "Python 3",
   "name": "python3"
  },
  "language_info": {
   "codemirror_mode": {
    "name": "ipython",
    "version": 3
   },
   "file_extension": ".py",
   "mimetype": "text/x-python",
   "name": "python",
   "nbconvert_exporter": "python",
   "pygments_lexer": "ipython3",
   "version": "3.8.12"
  },
  "source_map": [
   14,
   23,
   36,
   108,
   116,
   141,
   145
  ],
  "widgets": {
   "application/vnd.jupyter.widget-state+json": {
    "state": {
     "1f574a7e964c4f1c800fcffb02d587d9": {
      "model_module": "@jupyter-widgets/base",
      "model_module_version": "1.2.0",
      "model_name": "LayoutModel",
      "state": {
       "_model_module": "@jupyter-widgets/base",
       "_model_module_version": "1.2.0",
       "_model_name": "LayoutModel",
       "_view_count": null,
       "_view_module": "@jupyter-widgets/base",
       "_view_module_version": "1.2.0",
       "_view_name": "LayoutView",
       "align_content": null,
       "align_items": null,
       "align_self": null,
       "border": null,
       "bottom": null,
       "display": null,
       "flex": null,
       "flex_flow": null,
       "grid_area": null,
       "grid_auto_columns": null,
       "grid_auto_flow": null,
       "grid_auto_rows": null,
       "grid_column": null,
       "grid_gap": null,
       "grid_row": null,
       "grid_template_areas": null,
       "grid_template_columns": null,
       "grid_template_rows": null,
       "height": null,
       "justify_content": null,
       "justify_items": null,
       "left": null,
       "margin": null,
       "max_height": null,
       "max_width": null,
       "min_height": null,
       "min_width": null,
       "object_fit": null,
       "object_position": null,
       "order": null,
       "overflow": null,
       "overflow_x": null,
       "overflow_y": null,
       "padding": null,
       "right": null,
       "top": null,
       "visibility": null,
       "width": null
      }
     },
     "27a0ddcc57b94977a3095b9b449b34af": {
      "model_module": "@jupyter-widgets/controls",
      "model_module_version": "1.5.0",
      "model_name": "TextModel",
      "state": {
       "_dom_classes": [],
       "_model_module": "@jupyter-widgets/controls",
       "_model_module_version": "1.5.0",
       "_model_name": "TextModel",
       "_view_count": null,
       "_view_module": "@jupyter-widgets/controls",
       "_view_module_version": "1.5.0",
       "_view_name": "TextView",
       "continuous_update": true,
       "description": "",
       "description_tooltip": null,
       "disabled": false,
       "layout": "IPY_MODEL_ee0fbeab08cc49b693d059ec6ef6ab53",
       "placeholder": "​",
       "style": "IPY_MODEL_42c8cdbd01c84786b3e8691a66af1b29",
       "value": "the"
      }
     },
     "42c8cdbd01c84786b3e8691a66af1b29": {
      "model_module": "@jupyter-widgets/controls",
      "model_module_version": "1.5.0",
      "model_name": "DescriptionStyleModel",
      "state": {
       "_model_module": "@jupyter-widgets/controls",
       "_model_module_version": "1.5.0",
       "_model_name": "DescriptionStyleModel",
       "_view_count": null,
       "_view_module": "@jupyter-widgets/base",
       "_view_module_version": "1.2.0",
       "_view_name": "StyleView",
       "description_width": ""
      }
     },
     "639308d538d84f23b73a6996c848738f": {
      "model_module": "@jupyter-widgets/controls",
      "model_module_version": "1.5.0",
      "model_name": "IntSliderModel",
      "state": {
       "_dom_classes": [],
       "_model_module": "@jupyter-widgets/controls",
       "_model_module_version": "1.5.0",
       "_model_name": "IntSliderModel",
       "_view_count": null,
       "_view_module": "@jupyter-widgets/controls",
       "_view_module_version": "1.5.0",
       "_view_name": "IntSliderView",
       "continuous_update": true,
       "description": "Difficulty",
       "description_tooltip": null,
       "disabled": false,
       "layout": "IPY_MODEL_1f574a7e964c4f1c800fcffb02d587d9",
       "max": 5,
       "min": 1,
       "orientation": "horizontal",
       "readout": true,
       "readout_format": "d",
       "step": 1,
       "style": "IPY_MODEL_d6d785ce235e4f5aa6ef805f4d509fae",
       "value": 5
      }
     },
     "d6d785ce235e4f5aa6ef805f4d509fae": {
      "model_module": "@jupyter-widgets/controls",
      "model_module_version": "1.5.0",
      "model_name": "SliderStyleModel",
      "state": {
       "_model_module": "@jupyter-widgets/controls",
       "_model_module_version": "1.5.0",
       "_model_name": "SliderStyleModel",
       "_view_count": null,
       "_view_module": "@jupyter-widgets/base",
       "_view_module_version": "1.2.0",
       "_view_name": "StyleView",
       "description_width": "",
       "handle_color": null
      }
     },
     "ee0fbeab08cc49b693d059ec6ef6ab53": {
      "model_module": "@jupyter-widgets/base",
      "model_module_version": "1.2.0",
      "model_name": "LayoutModel",
      "state": {
       "_model_module": "@jupyter-widgets/base",
       "_model_module_version": "1.2.0",
       "_model_name": "LayoutModel",
       "_view_count": null,
       "_view_module": "@jupyter-widgets/base",
       "_view_module_version": "1.2.0",
       "_view_name": "LayoutView",
       "align_content": null,
       "align_items": null,
       "align_self": null,
       "border": null,
       "bottom": null,
       "display": null,
       "flex": null,
       "flex_flow": null,
       "grid_area": null,
       "grid_auto_columns": null,
       "grid_auto_flow": null,
       "grid_auto_rows": null,
       "grid_column": null,
       "grid_gap": null,
       "grid_row": null,
       "grid_template_areas": null,
       "grid_template_columns": null,
       "grid_template_rows": null,
       "height": null,
       "justify_content": null,
       "justify_items": null,
       "left": null,
       "margin": null,
       "max_height": null,
       "max_width": null,
       "min_height": null,
       "min_width": null,
       "object_fit": null,
       "object_position": null,
       "order": null,
       "overflow": null,
       "overflow_x": null,
       "overflow_y": null,
       "padding": null,
       "right": null,
       "top": null,
       "visibility": null,
       "width": null
      }
     }
    },
    "version_major": 2,
    "version_minor": 0
   }
  }
 },
 "nbformat": 4,
 "nbformat_minor": 5
}