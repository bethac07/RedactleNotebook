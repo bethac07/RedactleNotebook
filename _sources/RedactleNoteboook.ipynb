{
 "cells": [
  {
   "cell_type": "markdown",
   "id": "c9bc5000",
   "metadata": {},
   "source": [
    "```{code-cell,\n",
    "    \"tags\": [\n",
    "        \"hide-cell\"\n",
    "    ]}\n",
    ":id: bkyUbqhitXbn\n",
    "\n",
    "\n",
    "import wikipedia\n",
    "import ipywidgets\n",
    "import re\n",
    "import textwrap\n",
    "import urllib\n",
    "```"
   ]
  },
  {
   "cell_type": "code",
   "execution_count": 1,
   "id": "9bc8ad9e",
   "metadata": {
    "id": "is_XQ3vDuCT_"
   },
   "outputs": [
    {
     "ename": "NameError",
     "evalue": "name 'urllib' is not defined",
     "output_type": "error",
     "traceback": [
      "\u001b[0;31m---------------------------------------------------------------------------\u001b[0m",
      "\u001b[0;31mNameError\u001b[0m                                 Traceback (most recent call last)",
      "Input \u001b[0;32mIn [1]\u001b[0m, in \u001b[0;36m<cell line: 1>\u001b[0;34m()\u001b[0m\n\u001b[0;32m----> 1\u001b[0m name \u001b[38;5;241m=\u001b[39m \u001b[43murllib\u001b[49m\u001b[38;5;241m.\u001b[39mrequest\u001b[38;5;241m.\u001b[39murlopen(\u001b[38;5;124m'\u001b[39m\u001b[38;5;124mhttps://randomincategory.toolforge.org/?category=All\u001b[39m\u001b[38;5;124m%\u001b[39m\u001b[38;5;124m20Wikipedia\u001b[39m\u001b[38;5;132;01m%20le\u001b[39;00m\u001b[38;5;124mvel-5\u001b[39m\u001b[38;5;124m%\u001b[39m\u001b[38;5;124m20vital\u001b[39m\u001b[38;5;132;01m%20a\u001b[39;00m\u001b[38;5;124mrticles&server=en.wikipedia.org&cmnamespace=&cmtype=&returntype=subject\u001b[39m\u001b[38;5;124m'\u001b[39m)\u001b[38;5;241m.\u001b[39mread(\u001b[38;5;241m500\u001b[39m)\u001b[38;5;241m.\u001b[39mdecode()\u001b[38;5;241m.\u001b[39msplit(\u001b[38;5;124m'\u001b[39m\u001b[38;5;124mtitle>\u001b[39m\u001b[38;5;124m'\u001b[39m)[\u001b[38;5;241m1\u001b[39m]\u001b[38;5;241m.\u001b[39msplit(\u001b[38;5;124m'\u001b[39m\u001b[38;5;124m - Wikipedia\u001b[39m\u001b[38;5;124m'\u001b[39m)[\u001b[38;5;241m0\u001b[39m]\n\u001b[1;32m      2\u001b[0m content \u001b[38;5;241m=\u001b[39m wikipedia\u001b[38;5;241m.\u001b[39mpage(name)\u001b[38;5;241m.\u001b[39mcontent\n",
      "\u001b[0;31mNameError\u001b[0m: name 'urllib' is not defined"
     ]
    }
   ],
   "source": [
    "name = urllib.request.urlopen('https://randomincategory.toolforge.org/?category=All%20Wikipedia%20level-5%20vital%20articles&server=en.wikipedia.org&cmnamespace=&cmtype=&returntype=subject').read(500).decode().split('title>')[1].split(' - Wikipedia')[0]\n",
    "content = wikipedia.page(name).content"
   ]
  },
  {
   "cell_type": "code",
   "execution_count": null,
   "id": "3cfdd99e",
   "metadata": {
    "id": "PbpZK70RvdUl"
   },
   "outputs": [],
   "source": [
    "def print_redacted(new_string,count_to_word_dict):\n",
    "  string_to_print = ''\n",
    "  delims=['\\n',r'===',r'==',r'.',r',',r'(',r')',r'[',r']',r'<',r'>',r'\"',r':',r';',r'-',r'/',r'–',r'=',r'%']\n",
    "  for word in re.split(r'([ |\\n|=|.|,|(|)|[|]|<|>|\"|:|;|-|/|–|%])',new_string):\n",
    "    if type(word)==str:\n",
    "      if word in delims:\n",
    "        string_to_print += word\n",
    "      elif word in count_to_word_dict.keys():\n",
    "        if len(count_to_word_dict[word])>0:\n",
    "          string_to_print += count_to_word_dict[word][0]+' '\n",
    "      else:\n",
    "        pass\n",
    "  print(string_to_print)\n",
    "\n",
    "\n",
    "word_to_count_dict = {}\n",
    "count_to_word_dict = {}\n",
    "count_the_word_dict = {}\n",
    "new_string =''\n",
    "count = 9897098660698\n",
    "delims=['\\n',r'.',r',',r'(',r')',r'[',r']',r'<',r'>',r'\"',r':',r';',r'-',r'/',r'–',r'=',r'%',r'',r' ']\n",
    "words = [x for x in re.split(r'([ |\\n|=|.|,|(|)|[|]|<|>|\"|:|;|-|/|–|%])',name+' \\n\\n '+content)]\n",
    "for word in words:\n",
    "  if type(word)==str:\n",
    "    word = word.lower()\n",
    "    if word in delims:\n",
    "      if word not in ['',' ']:\n",
    "        new_string += word\n",
    "    elif word not in word_to_count_dict.keys():\n",
    "      word_to_count_dict[word]=str(count)\n",
    "      count_to_word_dict[str(count)]=['-'*len(word),word]\n",
    "      new_string += str(count)+' '\n",
    "      count += 1\n",
    "      count_the_word_dict[word]=1\n",
    "    else:\n",
    "      new_string += word_to_count_dict[word]+' '\n",
    "      count_the_word_dict[word]+=1\n",
    "\n",
    "new_string = textwrap.fill(new_string,break_long_words=False,width=200,replace_whitespace=False,\n",
    "                           drop_whitespace=False, break_on_hyphens=False)\n",
    "tried = []\n",
    "name_list = re.split(r'[ |\\n|===|==|.|,|(|)|[|]|<|>|\"|:|;|-|/|–|=|%|]{1,3}',name)\n",
    "name_list = [x.lower() for x in name_list]\n",
    "\n",
    "starting_guesses = ['a','an','is','the','of']\n",
    "for eachguess in starting_guesses:\n",
    "  try:\n",
    "    tried.append(eachguess)\n",
    "    count = word_to_count_dict[eachguess]\n",
    "    count_to_word_dict[count]=count_to_word_dict[count][1:]\n",
    "  except:\n",
    "    pass"
   ]
  },
  {
   "cell_type": "code",
   "execution_count": null,
   "id": "e4252fb6",
   "metadata": {
    "id": "GoRskjjNSqsY"
   },
   "outputs": [],
   "source": [
    "guess = ipywidgets.Text(value='the')"
   ]
  },
  {
   "cell_type": "markdown",
   "id": "6159d1c6",
   "metadata": {
    "id": "JfoVKEW77olk"
   },
   "source": [
    "# The Game"
   ]
  },
  {
   "cell_type": "code",
   "execution_count": null,
   "id": "3b9e9f61",
   "metadata": {
    "colab": {
     "base_uri": "https://localhost:8080/",
     "height": 1000,
     "referenced_widgets": [
      "7a35b983e464478cab11b2c19a978119",
      "8bbdf498e9aa4872903ce7e04f38ee50",
      "d782c29090f74fa7b2de4f0e6b774a31"
     ]
    },
    "id": "YvuVtauLRHcU",
    "outputId": "08de5b19-5917-4829-9ab5-31eef59eac2c"
   },
   "outputs": [],
   "source": [
    "#@title Default title text\n",
    "thisguess = guess.value.lower()\n",
    "if thisguess in tried:\n",
    "  print('already tried, here is what you tried already:',textwrap.fill(', '.join(tried)))\n",
    "  print_redacted(new_string,count_to_word_dict)\n",
    "elif thisguess not in word_to_count_dict.keys():\n",
    "  print('Nope')\n",
    "  print_redacted(new_string,count_to_word_dict)\n",
    "  tried.append(thisguess)\n",
    "else:\n",
    "  tried.append(thisguess)\n",
    "  if thisguess in name_list:\n",
    "    name_list.remove(thisguess)\n",
    "  if len(name_list)>0:\n",
    "    count = word_to_count_dict[thisguess]\n",
    "    count_to_word_dict[count]=count_to_word_dict[count][1:]\n",
    "    print(f\"{thisguess} appears {count_the_word_dict[thisguess]} times\")\n",
    "  else:\n",
    "    print('Hooray! \\n')\n",
    "    for k,v in count_to_word_dict.items():\n",
    "      if len(v)>1:\n",
    "        count_to_word_dict[k]=v[1:]\n",
    "  print_redacted(new_string,count_to_word_dict)\n",
    "\n",
    "guess"
   ]
  },
  {
   "cell_type": "markdown",
   "id": "9d37fba1",
   "metadata": {
    "id": "yxlLX9DC7Tyq"
   },
   "source": [
    "# Answers/Give up?"
   ]
  },
  {
   "cell_type": "code",
   "execution_count": null,
   "id": "0df7872b",
   "metadata": {
    "id": "k2Ihwz8WlUpc"
   },
   "outputs": [],
   "source": [
    "#Give up? Uncomment(remove the # from) the line below and run \n",
    "#print(name)"
   ]
  },
  {
   "cell_type": "code",
   "execution_count": null,
   "id": "72a4a488",
   "metadata": {
    "id": "Sw_Fri_opNH1"
   },
   "outputs": [],
   "source": [
    "#print(tried)"
   ]
  }
 ],
 "metadata": {
  "jupytext": {
   "text_representation": {
    "extension": ".md",
    "format_name": "myst",
    "format_version": 0.13,
    "jupytext_version": "1.11.5"
   }
  },
  "kernelspec": {
   "display_name": "Python 3",
   "name": "python3"
  },
  "language_info": {
   "codemirror_mode": {
    "name": "ipython",
    "version": 3
   },
   "file_extension": ".py",
   "mimetype": "text/x-python",
   "name": "python",
   "nbconvert_exporter": "python",
   "pygments_lexer": "ipython3",
   "version": "3.8.12"
  },
  "source_map": [
   11,
   28,
   35,
   93,
   99,
   103,
   140,
   144,
   151
  ]
 },
 "nbformat": 4,
 "nbformat_minor": 5
}