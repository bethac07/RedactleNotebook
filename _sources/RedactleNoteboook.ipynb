{
 "cells": [
  {
   "cell_type": "markdown",
   "id": "ecba4737",
   "metadata": {
    "id": "cdcgxGu-7c9p"
   },
   "source": [
    "# Setup"
   ]
  },
  {
   "cell_type": "code",
   "execution_count": 1,
   "id": "248a470a",
   "metadata": {
    "id": "vlHOZ1x3tLIk"
   },
   "outputs": [],
   "source": [
    "#!pip install wikipedia ipywidgets"
   ]
  },
  {
   "cell_type": "code",
   "execution_count": null,
   "id": "b475189d",
   "metadata": {
    "id": "jJzY_3Ko7iXj"
   },
   "outputs": [],
   "source": []
  },
  {
   "cell_type": "code",
   "execution_count": 2,
   "id": "7e02ff45",
   "metadata": {
    "id": "bkyUbqhitXbn"
   },
   "outputs": [
    {
     "ename": "ModuleNotFoundError",
     "evalue": "No module named 'wikipedia'",
     "output_type": "error",
     "traceback": [
      "\u001b[0;31m---------------------------------------------------------------------------\u001b[0m",
      "\u001b[0;31mModuleNotFoundError\u001b[0m                       Traceback (most recent call last)",
      "Input \u001b[0;32mIn [2]\u001b[0m, in \u001b[0;36m<cell line: 1>\u001b[0;34m()\u001b[0m\n\u001b[0;32m----> 1\u001b[0m \u001b[38;5;28;01mimport\u001b[39;00m \u001b[38;5;21;01mwikipedia\u001b[39;00m\n\u001b[1;32m      2\u001b[0m \u001b[38;5;28;01mimport\u001b[39;00m \u001b[38;5;21;01mipywidgets\u001b[39;00m\n\u001b[1;32m      3\u001b[0m \u001b[38;5;28;01mimport\u001b[39;00m \u001b[38;5;21;01mre\u001b[39;00m\n",
      "\u001b[0;31mModuleNotFoundError\u001b[0m: No module named 'wikipedia'"
     ]
    }
   ],
   "source": [
    "import wikipedia\n",
    "import ipywidgets\n",
    "import re\n",
    "import textwrap\n",
    "import urllib"
   ]
  },
  {
   "cell_type": "code",
   "execution_count": null,
   "id": "62b40339",
   "metadata": {
    "id": "is_XQ3vDuCT_"
   },
   "outputs": [],
   "source": [
    "name = urllib.request.urlopen('https://randomincategory.toolforge.org/?category=All%20Wikipedia%20level-5%20vital%20articles&server=en.wikipedia.org&cmnamespace=&cmtype=&returntype=subject').read(500).decode().split('title>')[1].split(' - Wikipedia')[0]\n",
    "content = wikipedia.page(name).content"
   ]
  },
  {
   "cell_type": "code",
   "execution_count": null,
   "id": "a1177563",
   "metadata": {
    "id": "PbpZK70RvdUl"
   },
   "outputs": [],
   "source": [
    "def print_redacted(new_string,count_to_word_dict):\n",
    "  string_to_print = ''\n",
    "  delims=['\\n',r'===',r'==',r'.',r',',r'(',r')',r'[',r']',r'<',r'>',r'\"',r':',r';',r'-',r'/',r'–',r'=',r'%']\n",
    "  for word in re.split(r'([ |\\n|=|.|,|(|)|[|]|<|>|\"|:|;|-|/|–|%])',new_string):\n",
    "    if type(word)==str:\n",
    "      if word in delims:\n",
    "        string_to_print += word\n",
    "      elif word in count_to_word_dict.keys():\n",
    "        if len(count_to_word_dict[word])>0:\n",
    "          string_to_print += count_to_word_dict[word][0]+' '\n",
    "      else:\n",
    "        pass\n",
    "  print(string_to_print)\n",
    "\n",
    "\n",
    "word_to_count_dict = {}\n",
    "count_to_word_dict = {}\n",
    "count_the_word_dict = {}\n",
    "new_string =''\n",
    "count = 9897098660698\n",
    "delims=['\\n',r'.',r',',r'(',r')',r'[',r']',r'<',r'>',r'\"',r':',r';',r'-',r'/',r'–',r'=',r'%',r'',r' ']\n",
    "words = [x for x in re.split(r'([ |\\n|=|.|,|(|)|[|]|<|>|\"|:|;|-|/|–|%])',name+' \\n\\n '+content)]\n",
    "for word in words:\n",
    "  if type(word)==str:\n",
    "    word = word.lower()\n",
    "    if word in delims:\n",
    "      if word not in ['',' ']:\n",
    "        new_string += word\n",
    "    elif word not in word_to_count_dict.keys():\n",
    "      word_to_count_dict[word]=str(count)\n",
    "      count_to_word_dict[str(count)]=['-'*len(word),word]\n",
    "      new_string += str(count)+' '\n",
    "      count += 1\n",
    "      count_the_word_dict[word]=1\n",
    "    else:\n",
    "      new_string += word_to_count_dict[word]+' '\n",
    "      count_the_word_dict[word]+=1\n",
    "\n",
    "new_string = textwrap.fill(new_string,break_long_words=False,width=200,replace_whitespace=False,\n",
    "                           drop_whitespace=False, break_on_hyphens=False)\n",
    "tried = []\n",
    "name_list = re.split(r'[ |\\n|===|==|.|,|(|)|[|]|<|>|\"|:|;|-|/|–|=|%|]{1,3}',name)\n",
    "name_list = [x.lower() for x in name_list]\n",
    "\n",
    "starting_guesses = ['a','an','is','the','of']\n",
    "for eachguess in starting_guesses:\n",
    "  try:\n",
    "    tried.append(eachguess)\n",
    "    count = word_to_count_dict[eachguess]\n",
    "    count_to_word_dict[count]=count_to_word_dict[count][1:]\n",
    "  except:\n",
    "    pass"
   ]
  },
  {
   "cell_type": "code",
   "execution_count": null,
   "id": "a82f6022",
   "metadata": {
    "id": "GoRskjjNSqsY"
   },
   "outputs": [],
   "source": [
    "guess = ipywidgets.Text(value='the')"
   ]
  },
  {
   "cell_type": "markdown",
   "id": "9e0920f9",
   "metadata": {
    "id": "JfoVKEW77olk"
   },
   "source": [
    "# The Game"
   ]
  },
  {
   "cell_type": "code",
   "execution_count": null,
   "id": "aaec429c",
   "metadata": {
    "colab": {
     "base_uri": "https://localhost:8080/",
     "height": 1000,
     "referenced_widgets": [
      "7a35b983e464478cab11b2c19a978119",
      "8bbdf498e9aa4872903ce7e04f38ee50",
      "d782c29090f74fa7b2de4f0e6b774a31"
     ]
    },
    "id": "YvuVtauLRHcU",
    "outputId": "08de5b19-5917-4829-9ab5-31eef59eac2c"
   },
   "outputs": [],
   "source": [
    "#@title Default title text\n",
    "thisguess = guess.value.lower()\n",
    "if thisguess in tried:\n",
    "  print('already tried, here is what you tried already:',textwrap.fill(', '.join(tried)))\n",
    "  print_redacted(new_string,count_to_word_dict)\n",
    "elif thisguess not in word_to_count_dict.keys():\n",
    "  print('Nope')\n",
    "  print_redacted(new_string,count_to_word_dict)\n",
    "  tried.append(thisguess)\n",
    "else:\n",
    "  tried.append(thisguess)\n",
    "  if thisguess in name_list:\n",
    "    name_list.remove(thisguess)\n",
    "  if len(name_list)>0:\n",
    "    count = word_to_count_dict[thisguess]\n",
    "    count_to_word_dict[count]=count_to_word_dict[count][1:]\n",
    "    print(f\"{thisguess} appears {count_the_word_dict[thisguess]} times\")\n",
    "  else:\n",
    "    print('Hooray! \\n')\n",
    "    for k,v in count_to_word_dict.items():\n",
    "      if len(v)>1:\n",
    "        count_to_word_dict[k]=v[1:]\n",
    "  print_redacted(new_string,count_to_word_dict)\n",
    "\n",
    "guess"
   ]
  },
  {
   "cell_type": "markdown",
   "id": "68c3e2a7",
   "metadata": {
    "id": "yxlLX9DC7Tyq"
   },
   "source": [
    "# Answers/Give up?"
   ]
  },
  {
   "cell_type": "code",
   "execution_count": null,
   "id": "b3c370db",
   "metadata": {
    "id": "k2Ihwz8WlUpc"
   },
   "outputs": [],
   "source": [
    "#Give up? Uncomment(remove the # from) the line below and run \n",
    "#print(name)"
   ]
  },
  {
   "cell_type": "code",
   "execution_count": null,
   "id": "7a2e4c46",
   "metadata": {
    "id": "Sw_Fri_opNH1"
   },
   "outputs": [],
   "source": [
    "#print(tried)"
   ]
  }
 ],
 "metadata": {
  "jupytext": {
   "text_representation": {
    "extension": ".md",
    "format_name": "myst",
    "format_version": 0.13,
    "jupytext_version": "1.11.5"
   }
  },
  "kernelspec": {
   "display_name": "Python 3",
   "name": "python3"
  },
  "language_info": {
   "codemirror_mode": {
    "name": "ipython",
    "version": 3
   },
   "file_extension": ".py",
   "mimetype": "text/x-python",
   "name": "python",
   "nbconvert_exporter": "python",
   "pygments_lexer": "ipython3",
   "version": "3.8.12"
  },
  "source_map": [
   13,
   17,
   23,
   29,
   39,
   46,
   104,
   110,
   114,
   151,
   155,
   162
  ]
 },
 "nbformat": 4,
 "nbformat_minor": 5
}